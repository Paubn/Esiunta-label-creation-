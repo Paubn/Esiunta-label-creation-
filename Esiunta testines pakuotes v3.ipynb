{
 "cells": [
  {
   "cell_type": "code",
   "execution_count": 147,
   "id": "05548aa4",
   "metadata": {},
   "outputs": [],
   "source": [
    "from selenium import webdriver\n",
    "from selenium.webdriver.support.ui import WebDriverWait\n",
    "from selenium.webdriver.common.by import By\n",
    "from selenium.webdriver.support import expected_conditions as EC\n",
    "from selenium.webdriver.support.ui import Select\n",
    "from selenium.webdriver.common.keys import Keys\n",
    "from selenium.webdriver.common.by import By\n",
    "import time"
   ]
  },
  {
   "cell_type": "code",
   "execution_count": null,
   "id": "87e802d7",
   "metadata": {
    "scrolled": true
   },
   "outputs": [],
   "source": [
    "driver = webdriver.Firefox(executable_path=r\"geckodriver.exe\")"
   ]
  },
  {
   "cell_type": "code",
   "execution_count": 149,
   "id": "96e31271",
   "metadata": {},
   "outputs": [],
   "source": [
    "#Prisijungimo puslapis\n",
    "url = \"https://esiunta.dpd.lt/login\"\n",
    "driver.get(url)\n"
   ]
  },
  {
   "cell_type": "code",
   "execution_count": 150,
   "id": "bb75f7e4",
   "metadata": {},
   "outputs": [],
   "source": [
    "#Cookie mygtukas\n",
    "driver.find_element(By.ID, value=\"instant-cookie-modal-submit-button\").click()"
   ]
  },
  {
   "cell_type": "code",
   "execution_count": 151,
   "id": "b5a55772",
   "metadata": {},
   "outputs": [],
   "source": [
    "#Prisijungimo duomenys\n",
    "USR = \"\"\n",
    "PSW = ''\n",
    "\n",
    "#Prisijungimo funkcija\n",
    "driver.find_element(By.XPATH,\"//input[@name='email']\").send_keys(USR)\n",
    "driver.find_element(By.XPATH,\"//input[@name='password']\").send_keys(PSW, Keys.ENTER)"
   ]
  },
  {
   "cell_type": "code",
   "execution_count": 152,
   "id": "fd0f185d",
   "metadata": {},
   "outputs": [],
   "source": [
    "#Paspausti \"Nauja siunta\"\n",
    "time.sleep(3)\n",
    "\n",
    "driver.find_element(By.ID, value=\"new_shipment_btn\").click()"
   ]
  },
  {
   "cell_type": "code",
   "execution_count": 143,
   "id": "fc999323",
   "metadata": {
    "scrolled": true
   },
   "outputs": [],
   "source": [
    "#Siuntėjo duomenų blokas. Visad default.\n",
    "s_name = \"DPD Paulius\"\n",
    "s_street = 'Liepkalnio g.'\n",
    "s_house = '180'\n",
    "s_appno = ''\n",
    "s_phone = '+37061691412'\n",
    "s_city = 'Vilnius'\n",
    "s_zip = '02121'\n",
    "s_email = ''\n",
    "s_country = 'Lithuania'\n",
    "\n",
    "driver.find_element(By.XPATH,\"//input[@id='sender_name']\").send_keys(s_name)\n",
    "driver.find_element(By.XPATH,\"//div[@id='sender_street']//input[@class='vs__search']\").send_keys(s_street, Keys.TAB) \n",
    "driver.find_element(By.XPATH,\"//input[@id='sender_phone']\").send_keys(s_phone)\n",
    "driver.find_element(By.XPATH,\"//input[@id='sender_house']\").send_keys(s_house)\n",
    "driver.find_element(By.XPATH,\"//input[@id='sender_flat']\").send_keys(s_appno)\n",
    "driver.find_element(By.XPATH,\"//input[@id='sender_city']\").send_keys(s_city)\n",
    "driver.find_element(By.XPATH,\"//input[@id='sender_zip']\").send_keys(s_zip)\n",
    "driver.find_element(By.XPATH,\"//input[@id='sender_email']\").send_keys(s_email)\n",
    "driver.find_element(By.XPATH,\"//input[@id='sender_country']\").send_keys(s_country, Keys.ENTER)\n",
    "driver.find_element(By.XPATH,\"//input[@value='Private']\").click()\n"
   ]
  },
  {
   "cell_type": "code",
   "execution_count": 144,
   "id": "d5d48202",
   "metadata": {},
   "outputs": [],
   "source": [
    "#Gavėjo duomenų blokas. Būtina nurodyti tikslų adresą ir pašto kodą, priešingu atveju mes \"ZIP error\"\n",
    "r_name = \"Paulius test\"\n",
    "r_street = 'Liepkalnio g.'\n",
    "r_house = '178'\n",
    "r_appno = '2'\n",
    "r_contact = ''\n",
    "r_phone = '+37061691412'\n",
    "r_city = 'Vilnius'\n",
    "r_zip = '02120'\n",
    "r_email = ''\n",
    "r_country = 'Lithuania'\n",
    "r_info = ''\n",
    "\n",
    "driver.find_element(By.XPATH,\"//input[@id='receiver_name']\").send_keys(r_name)\n",
    "driver.find_element(By.XPATH,\"//div[@id='receiver_street']//input[@class='vs__search']\").send_keys(r_street, Keys.TAB)\n",
    "driver.find_element(By.XPATH,\"//input[@id='receiver_contact_name']\").send_keys(r_contact)\n",
    "driver.find_element(By.XPATH,\"//input[@id='receiver_phone']\").send_keys(r_phone)\n",
    "driver.find_element(By.XPATH,\"//input[@id='receiver_house']\").send_keys(r_house)\n",
    "driver.find_element(By.XPATH,\"//input[@id='receiver_flat']\").send_keys(r_appno)\n",
    "driver.find_element(By.XPATH,\"//input[@id='receiver_city']\").send_keys(r_city)\n",
    "driver.find_element(By.XPATH,\"//input[@id='receiver_zip']\").send_keys(r_zip)\n",
    "driver.find_element(By.XPATH,\"//input[@id='receiver_email']\").send_keys(r_email)\n",
    "driver.find_element(By.XPATH,\"//input[@id='receiver_contact_info']\").send_keys(r_info)\n",
    "#driver.find_element(By.XPATH,\"//input[@id='receiver_country']\").send_keys(r_country)\n"
   ]
  },
  {
   "cell_type": "code",
   "execution_count": null,
   "id": "f645a794",
   "metadata": {},
   "outputs": [],
   "source": [
    "#Pasirinkti šalį iš sąrašo pagal r_country\n",
    "e = driver.find_elements(By.XPATH, \"//i[@class='dropdown icon']\")\n",
    "e[1].click()\n",
    "e = driver.find_elements(By.XPATH, \"//div[@data-vss-custom-attr='']\")\n",
    "# e[10].click()\n",
    "for i, _ in enumerate(e):\n",
    "    print(_.text)\n",
    "    if _.text == r_country:\n",
    "        e[i].click()"
   ]
  },
  {
   "cell_type": "code",
   "execution_count": 145,
   "id": "25b131b7",
   "metadata": {},
   "outputs": [],
   "source": [
    "#Paspausti mygtuką \"Tęsti\"\n",
    "driver.find_element(By.ID, value=\"open_service_block_btn\").click()"
   ]
  },
  {
   "cell_type": "code",
   "execution_count": 146,
   "id": "e06ca36c",
   "metadata": {},
   "outputs": [],
   "source": [
    "#Siuntų duomenys:\n",
    "parcels = '2'\n",
    "parcel_w = '5'\n",
    "content = ''\n",
    "\n",
    "\n",
    "driver.find_element(By.XPATH,\"//input[@id='parcel_count']\").send_keys(Keys.CONTROL + \"a\",Keys.DELETE)\n",
    "driver.find_element(By.XPATH,\"//input[@id='parcel_count']\").send_keys(parcels)\n",
    "driver.find_element(By.XPATH,\"//input[@id='parcel_weight']\").send_keys(parcel_w)\n",
    "driver.find_element(By.XPATH,\"//input[@class='form-control dpd-input dpd-input-sm']\").send_keys(content)\n"
   ]
  },
  {
   "cell_type": "code",
   "execution_count": 136,
   "id": "e3e5ec18",
   "metadata": {},
   "outputs": [],
   "source": [
    "#Sukurti siuntą\n",
    "driver.find_element(By.ID, value=\"save_and_return_to_dashboard\").click()"
   ]
  },
  {
   "cell_type": "code",
   "execution_count": null,
   "id": "ae1955e5",
   "metadata": {},
   "outputs": [],
   "source": []
  }
 ],
 "metadata": {
  "kernelspec": {
   "display_name": "Python 3 (ipykernel)",
   "language": "python",
   "name": "python3"
  },
  "language_info": {
   "codemirror_mode": {
    "name": "ipython",
    "version": 3
   },
   "file_extension": ".py",
   "mimetype": "text/x-python",
   "name": "python",
   "nbconvert_exporter": "python",
   "pygments_lexer": "ipython3",
   "version": "3.9.12"
  }
 },
 "nbformat": 4,
 "nbformat_minor": 5
}
